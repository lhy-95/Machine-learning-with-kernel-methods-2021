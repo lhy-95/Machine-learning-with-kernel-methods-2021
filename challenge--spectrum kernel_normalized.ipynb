{
 "cells": [
  {
   "cell_type": "markdown",
   "metadata": {},
   "source": [
    "### Load data"
   ]
  },
  {
   "cell_type": "code",
   "execution_count": 1,
   "metadata": {},
   "outputs": [],
   "source": [
    "import numpy as np\n",
    "import pandas as pd\n",
    "\n",
    "\n",
    "def load_data(dataset, train = True):\n",
    "    \n",
    "    if train:\n",
    "        df_Xtr = pd.read_csv(f'dataset/Xtr{dataset}.csv', index_col=0)   # read training X\n",
    "        df_Ytr = pd.read_csv(f'dataset/Ytr{dataset}.csv')  # read training y\n",
    "        \n",
    "        X = np.array(df_Xtr).squeeze()\n",
    "        Y = df_Ytr.Bound.values.ravel().astype(float)\n",
    "        \n",
    "    else:\n",
    "        df_Xte = pd.read_csv(f'dataset/Xte{dataset}.csv', index_col=0)   # read test X\n",
    "        X = np.array(df_Xte).squeeze()\n",
    "        Y = None\n",
    "    \n",
    "    return X, Y "
   ]
  },
  {
   "cell_type": "markdown",
   "metadata": {},
   "source": [
    "### Construct dictionary and the gram matrix"
   ]
  },
  {
   "cell_type": "code",
   "execution_count": 2,
   "metadata": {},
   "outputs": [],
   "source": [
    "def dic_constr(X, k):\n",
    "    Subseqs_dic ={}\n",
    "    \n",
    "    for idx, fulseq in enumerate(X):\n",
    "        # compute all its subsequences\n",
    "        subseqs = [ fulseq[i:i + k]  for i in range(len(fulseq) - k + 1)  ]\n",
    "        \n",
    "        for subseq in subseqs:\n",
    "            # creat a new dict for new subsequences\n",
    "            if not subseq in Subseqs_dic:\n",
    "                Subseqs_dic[subseq] = {}\n",
    "            if not str(idx) in Subseqs_dic[subseq]:\n",
    "                Subseqs_dic[subseq][str(idx)] = 0\n",
    "            \n",
    "            Subseqs_dic[subseq][str(idx)] += 1\n",
    "                    \n",
    "    return Subseqs_dic"
   ]
  },
  {
   "cell_type": "code",
   "execution_count": null,
   "metadata": {},
   "outputs": [],
   "source": []
  },
  {
   "cell_type": "code",
   "execution_count": 3,
   "metadata": {},
   "outputs": [],
   "source": [
    "def gram_matrix(dicS, dicT, nrow, ncol):\n",
    "    # dicS : always the training dictionary\n",
    "    # dicT : test dictionary (could be the training set)\n",
    "    # nrow : size of test set (could be the training set)\n",
    "    # ncol : always size of training set\n",
    "    import time\n",
    "    gram_mat = np.zeros((nrow,ncol))\n",
    "    vetS = np.zeros(ncol)\n",
    "    vetT = np.zeros(nrow)\n",
    "    \n",
    "    start = time.time()\n",
    "    for subseqT, subdicT in dicT.items():\n",
    "        if subseqT in dicS.keys():\n",
    "            subdicS = dicS[subseqT]\n",
    "            \n",
    "            for i, numi in subdicT.items():\n",
    "                for j, numj in subdicS.items():\n",
    "                    gram_mat[int(i),int(j)] += numi * numj   \n",
    "#                     vetS[int(j)] += numj**2\n",
    "#                     vetT[int(i)] += numi**2\n",
    "\n",
    "    for subseqT, subdicT in dicT.items():\n",
    "        for i, numi in subdicT.items():\n",
    "            vetT[int(i)] += numi**2\n",
    "    for subseqS, subdicS in dicS.items():\n",
    "        for j, numj in subdicS.items():\n",
    "            vetS[int(j)] += numj**2\n",
    "            \n",
    "                    \n",
    "    denom = np.sqrt(np.outer(vetT,vetS))\n",
    "#    denom[denom == 0] = 1  # should not have 0 by the definition\n",
    "    gram_mat = np.divide(gram_mat,denom)\n",
    "    \n",
    "    stop = time.time()\n",
    "    print('\\t time {:.4f}'.format(stop - start))\n",
    "    \n",
    "    return gram_mat"
   ]
  },
  {
   "cell_type": "markdown",
   "metadata": {},
   "source": [
    "### SVM solution"
   ]
  },
  {
   "cell_type": "code",
   "execution_count": 4,
   "metadata": {},
   "outputs": [],
   "source": [
    "def sign(y):\n",
    "    return 2*y-1\n",
    "\n",
    "def binary(y):\n",
    "    return ((y + 1) / 2).astype(int)"
   ]
  },
  {
   "cell_type": "code",
   "execution_count": 5,
   "metadata": {},
   "outputs": [],
   "source": [
    "# SVM solution\n",
    "from cvxopt import solvers, matrix\n",
    "\n",
    "def SVM(K, y, lbd=1):\n",
    "#     print(lbd)\n",
    "    y = sign(y)  # {0,1} to {-1,1}\n",
    "    n = len(y)\n",
    "    \n",
    "    q = - 2 * y\n",
    "    P = K\n",
    "    G = np.zeros((2*n, n))\n",
    "    G[:n, :] = - np.diag(y)\n",
    "    G[n:, :] = np.diag(y)\n",
    "    h = np.zeros(2 * n)\n",
    "    h[n:] = 1 / (2 * lbd * n)\n",
    "    \n",
    "    P = matrix(P)\n",
    "    q = matrix(q)\n",
    "    G = matrix(G)\n",
    "    h = matrix(h)\n",
    "\n",
    "    solvers.options['show_progress'] = False\n",
    "    alpha = solvers.qp(P, q, G, h)\n",
    "\n",
    "    return alpha\n",
    "\n",
    "def predict(K, alpha):\n",
    "    return binary(np.sign(K@alpha))"
   ]
  },
  {
   "cell_type": "code",
   "execution_count": 6,
   "metadata": {},
   "outputs": [
    {
     "name": "stdout",
     "output_type": "stream",
     "text": [
      "Compute the training gram matrix...\n",
      "\t time 0.6826\n",
      "Compute the testing gram matrix...\n",
      "\t time 0.3185\n",
      "Length of subsequence is : 20, and the accuracy on training set is 0.9970\n"
     ]
    }
   ],
   "source": [
    "dataset = ['0','1','2']\n",
    "for set in dataset:\n",
    "    Xtr, Ytr = load_data(set,train =True)\n",
    "    Xte,_ = load_data(set,train = False)\n",
    "\n",
    "# length of subsequence\n",
    "k = 20\n",
    "dic_tr = dic_constr(Xtr, k)\n",
    "dic_te = dic_constr(Xte, k)\n",
    "\n",
    "len_tr, len_te = len(Xtr), len(Xte)\n",
    "\n",
    "# the gram matrix \n",
    "print('Compute the training gram matrix...')\n",
    "gram_mat_train = gram_matrix(dic_tr,dic_tr, len_tr,len_tr)\n",
    "print('Compute the testing gram matrix...')\n",
    "gram_mat_test = gram_matrix(dic_tr, dic_te, len_te,len_tr)\n",
    "\n",
    "# SVM solution\n",
    "sol = SVM(gram_mat_train, Ytr)\n",
    "pred_train = predict(gram_mat_train, sol['x'])\n",
    "acc_train = np.sum(np.abs(pred_train.squeeze() - Ytr)) / len_tr\n",
    "acc_train = 1-acc_train\n",
    "print('Length of subsequence is : {:}, and the accuracy on training set is {:.4f}'.format(k, acc_train))\n",
    "\n",
    "# output on the test set\n",
    "pred_test = predict(gram_mat_test, sol['x'] )"
   ]
  },
  {
   "cell_type": "code",
   "execution_count": 10,
   "metadata": {},
   "outputs": [
    {
     "data": {
      "text/plain": [
       "101"
      ]
     },
     "execution_count": 10,
     "metadata": {},
     "output_type": "execute_result"
    }
   ],
   "source": [
    "len(Xtr[0])"
   ]
  },
  {
   "cell_type": "code",
   "execution_count": 7,
   "metadata": {},
   "outputs": [],
   "source": [
    "def acc(Xtr, Ytr, Xte, Yte, k, lbd):\n",
    "    \n",
    "    dic_tr = dic_constr(Xtr, k)\n",
    "    dic_te = dic_constr(Xte, k)\n",
    "\n",
    "    len_tr, len_te = len(Xtr), len(Xte)\n",
    "\n",
    "    # the gram matrix \n",
    "    print('Compute the training gram matrix...')\n",
    "    gram_mat_train = gram_matrix(dic_tr,dic_tr, len_tr, len_tr)\n",
    "    print('Compute the testing gram matrix...')\n",
    "    gram_mat_test = gram_matrix(dic_tr, dic_te, len_te, len_tr)\n",
    "\n",
    "    # SVM solution\n",
    "    sol = SVM(gram_mat_train, Ytr, lbd=lbd)\n",
    "    pred_train = predict(gram_mat_train, sol['x'])\n",
    "    acc_train = np.sum(np.abs(pred_train.squeeze() - Ytr)) / len_tr\n",
    "    acc_train = 1-acc_train\n",
    "    print('Length of subsequence is : {:}'.format(k))\n",
    "    print('and the accuracy on training set is {:.4f}'.format(acc_train))\n",
    "    \n",
    "    pred_test = predict(gram_mat_test, sol['x'] ).squeeze()\n",
    "    acc_test = 1 - np.sum(np.abs(pred_test - Yte)) / len_te\n",
    "    print('The accuracy on test set is {:.4f}'.format(acc_test))\n",
    "    \n",
    "    return acc_test"
   ]
  },
  {
   "cell_type": "code",
   "execution_count": 39,
   "metadata": {
    "scrolled": true
   },
   "outputs": [
    {
     "name": "stdout",
     "output_type": "stream",
     "text": [
      "dataset2\n",
      "8 1e-05\n",
      "Compute the training gram matrix...\n",
      "\t time 1.5376\n",
      "Compute the testing gram matrix...\n",
      "\t time 0.4731\n",
      "Length of subsequence is : 8\n",
      "and the accuracy on training set is 1.0000\n",
      "The accuracy on test set is 0.7125\n",
      "Compute the training gram matrix...\n",
      "\t time 1.4268\n",
      "Compute the testing gram matrix...\n",
      "\t time 0.4730\n",
      "Length of subsequence is : 8\n",
      "and the accuracy on training set is 1.0000\n",
      "The accuracy on test set is 0.7625\n",
      "Compute the training gram matrix...\n",
      "\t time 1.4805\n",
      "Compute the testing gram matrix...\n",
      "\t time 0.4497\n",
      "Length of subsequence is : 8\n",
      "and the accuracy on training set is 1.0000\n",
      "The accuracy on test set is 0.7025\n",
      "Compute the training gram matrix...\n",
      "\t time 1.5013\n",
      "Compute the testing gram matrix...\n",
      "\t time 0.4752\n",
      "Length of subsequence is : 8\n",
      "and the accuracy on training set is 1.0000\n",
      "The accuracy on test set is 0.7425\n",
      "Compute the training gram matrix...\n",
      "\t time 1.5591\n",
      "Compute the testing gram matrix...\n",
      "\t time 0.4885\n",
      "Length of subsequence is : 8\n",
      "and the accuracy on training set is 1.0000\n",
      "The accuracy on test set is 0.6925\n",
      "\t parameters len 8,lbd 1e-05, average accuracy 0.7225\n",
      "8 0.0001\n",
      "Compute the training gram matrix...\n",
      "\t time 1.5232\n",
      "Compute the testing gram matrix...\n",
      "\t time 0.4550\n",
      "Length of subsequence is : 8\n",
      "and the accuracy on training set is 0.9975\n",
      "The accuracy on test set is 0.7350\n",
      "Compute the training gram matrix...\n",
      "\t time 1.4150\n",
      "Compute the testing gram matrix...\n",
      "\t time 0.4656\n",
      "Length of subsequence is : 8\n",
      "and the accuracy on training set is 0.9988\n",
      "The accuracy on test set is 0.7700\n",
      "Compute the training gram matrix...\n",
      "\t time 1.4264\n",
      "Compute the testing gram matrix...\n",
      "\t time 0.4431\n",
      "Length of subsequence is : 8\n",
      "and the accuracy on training set is 0.9975\n",
      "The accuracy on test set is 0.7075\n",
      "Compute the training gram matrix...\n",
      "\t time 1.4691\n",
      "Compute the testing gram matrix...\n",
      "\t time 0.4597\n",
      "Length of subsequence is : 8\n",
      "and the accuracy on training set is 0.9969\n",
      "The accuracy on test set is 0.7400\n",
      "Compute the training gram matrix...\n",
      "\t time 1.6137\n",
      "Compute the testing gram matrix...\n",
      "\t time 0.4784\n",
      "Length of subsequence is : 8\n",
      "and the accuracy on training set is 0.9981\n",
      "The accuracy on test set is 0.6900\n",
      "\t parameters len 8,lbd 0.0001, average accuracy 0.7285\n",
      "8 0.001\n",
      "Compute the training gram matrix...\n",
      "\t time 1.4620\n",
      "Compute the testing gram matrix...\n",
      "\t time 0.4499\n",
      "Length of subsequence is : 8\n",
      "and the accuracy on training set is 0.9494\n",
      "The accuracy on test set is 0.6700\n",
      "Compute the training gram matrix...\n",
      "\t time 1.3928\n",
      "Compute the testing gram matrix...\n",
      "\t time 0.4611\n",
      "Length of subsequence is : 8\n",
      "and the accuracy on training set is 0.9650\n",
      "The accuracy on test set is 0.7250\n",
      "Compute the training gram matrix...\n",
      "\t time 1.4851\n",
      "Compute the testing gram matrix...\n",
      "\t time 0.5195\n",
      "Length of subsequence is : 8\n",
      "and the accuracy on training set is 0.9450\n",
      "The accuracy on test set is 0.6700\n",
      "Compute the training gram matrix...\n",
      "\t time 1.4541\n",
      "Compute the testing gram matrix...\n",
      "\t time 0.4594\n",
      "Length of subsequence is : 8\n",
      "and the accuracy on training set is 0.9450\n",
      "The accuracy on test set is 0.6900\n",
      "Compute the training gram matrix...\n",
      "\t time 1.4815\n",
      "Compute the testing gram matrix...\n",
      "\t time 0.4461\n",
      "Length of subsequence is : 8\n",
      "and the accuracy on training set is 0.9600\n",
      "The accuracy on test set is 0.6950\n",
      "\t parameters len 8,lbd 0.001, average accuracy 0.6900\n",
      "8 0.01\n",
      "Compute the training gram matrix...\n",
      "\t time 1.5133\n",
      "Compute the testing gram matrix...\n",
      "\t time 0.4682\n",
      "Length of subsequence is : 8\n",
      "and the accuracy on training set is 0.9544\n",
      "The accuracy on test set is 0.7175\n",
      "Compute the training gram matrix...\n",
      "\t time 1.5284\n",
      "Compute the testing gram matrix...\n",
      "\t time 0.5187\n",
      "Length of subsequence is : 8\n",
      "and the accuracy on training set is 0.9625\n",
      "The accuracy on test set is 0.7400\n",
      "Compute the training gram matrix...\n",
      "\t time 1.5081\n",
      "Compute the testing gram matrix...\n",
      "\t time 0.6776\n",
      "Length of subsequence is : 8\n",
      "and the accuracy on training set is 0.9537\n",
      "The accuracy on test set is 0.6675\n",
      "Compute the training gram matrix...\n",
      "\t time 1.5318\n",
      "Compute the testing gram matrix...\n",
      "\t time 0.4756\n",
      "Length of subsequence is : 8\n",
      "and the accuracy on training set is 0.9594\n",
      "The accuracy on test set is 0.6950\n",
      "Compute the training gram matrix...\n",
      "\t time 1.6351\n",
      "Compute the testing gram matrix...\n",
      "\t time 0.4473\n",
      "Length of subsequence is : 8\n",
      "and the accuracy on training set is 0.9581\n",
      "The accuracy on test set is 0.6925\n",
      "\t parameters len 8,lbd 0.01, average accuracy 0.7025\n",
      "9 1e-05\n",
      "Compute the training gram matrix...\n",
      "\t time 1.0073\n",
      "Compute the testing gram matrix...\n",
      "\t time 0.4107\n",
      "Length of subsequence is : 9\n",
      "and the accuracy on training set is 1.0000\n",
      "The accuracy on test set is 0.7125\n",
      "Compute the training gram matrix...\n",
      "\t time 1.1292\n",
      "Compute the testing gram matrix...\n",
      "\t time 0.3945\n",
      "Length of subsequence is : 9\n",
      "and the accuracy on training set is 1.0000\n",
      "The accuracy on test set is 0.7375\n",
      "Compute the training gram matrix...\n",
      "\t time 1.0149\n",
      "Compute the testing gram matrix...\n",
      "\t time 0.3219\n",
      "Length of subsequence is : 9\n",
      "and the accuracy on training set is 1.0000\n",
      "The accuracy on test set is 0.6800\n",
      "Compute the training gram matrix...\n",
      "\t time 0.9558\n",
      "Compute the testing gram matrix...\n",
      "\t time 0.3307\n",
      "Length of subsequence is : 9\n",
      "and the accuracy on training set is 1.0000\n",
      "The accuracy on test set is 0.7300\n",
      "Compute the training gram matrix...\n",
      "\t time 1.0856\n",
      "Compute the testing gram matrix...\n",
      "\t time 0.3704\n",
      "Length of subsequence is : 9\n",
      "and the accuracy on training set is 1.0000\n",
      "The accuracy on test set is 0.7200\n",
      "\t parameters len 9,lbd 1e-05, average accuracy 0.7160\n",
      "9 0.0001\n",
      "Compute the training gram matrix...\n",
      "\t time 0.9602\n",
      "Compute the testing gram matrix...\n",
      "\t time 0.3213\n",
      "Length of subsequence is : 9\n",
      "and the accuracy on training set is 0.9981\n",
      "The accuracy on test set is 0.7200\n",
      "Compute the training gram matrix...\n",
      "\t time 0.9316\n",
      "Compute the testing gram matrix...\n",
      "\t time 0.3974\n",
      "Length of subsequence is : 9\n",
      "and the accuracy on training set is 0.9981\n",
      "The accuracy on test set is 0.7450\n",
      "Compute the training gram matrix...\n",
      "\t time 1.0120\n",
      "Compute the testing gram matrix...\n",
      "\t time 0.3393\n",
      "Length of subsequence is : 9\n",
      "and the accuracy on training set is 0.9981\n",
      "The accuracy on test set is 0.6900\n",
      "Compute the training gram matrix...\n",
      "\t time 1.0753\n",
      "Compute the testing gram matrix...\n",
      "\t time 0.4632\n",
      "Length of subsequence is : 9\n",
      "and the accuracy on training set is 0.9988\n",
      "The accuracy on test set is 0.7400\n",
      "Compute the training gram matrix...\n",
      "\t time 0.9750\n",
      "Compute the testing gram matrix...\n",
      "\t time 0.3172\n",
      "Length of subsequence is : 9\n",
      "and the accuracy on training set is 0.9981\n",
      "The accuracy on test set is 0.7175\n",
      "\t parameters len 9,lbd 0.0001, average accuracy 0.7225\n",
      "9 0.001\n",
      "Compute the training gram matrix...\n",
      "\t time 0.9454\n",
      "Compute the testing gram matrix...\n",
      "\t time 0.3207\n",
      "Length of subsequence is : 9\n",
      "and the accuracy on training set is 0.9881\n",
      "The accuracy on test set is 0.6875\n",
      "Compute the training gram matrix...\n",
      "\t time 0.9295\n",
      "Compute the testing gram matrix...\n",
      "\t time 0.3356\n",
      "Length of subsequence is : 9\n",
      "and the accuracy on training set is 0.9900\n",
      "The accuracy on test set is 0.7325\n",
      "Compute the training gram matrix...\n",
      "\t time 0.9849\n",
      "Compute the testing gram matrix...\n",
      "\t time 0.3185\n",
      "Length of subsequence is : 9\n",
      "and the accuracy on training set is 0.9875\n",
      "The accuracy on test set is 0.6725\n",
      "Compute the training gram matrix...\n",
      "\t time 0.9506\n",
      "Compute the testing gram matrix...\n",
      "\t time 0.3284\n",
      "Length of subsequence is : 9\n",
      "and the accuracy on training set is 0.9862\n",
      "The accuracy on test set is 0.6900\n",
      "Compute the training gram matrix...\n",
      "\t time 1.0983\n",
      "Compute the testing gram matrix...\n",
      "\t time 0.3324\n",
      "Length of subsequence is : 9\n",
      "and the accuracy on training set is 0.9906\n",
      "The accuracy on test set is 0.6900\n",
      "\t parameters len 9,lbd 0.001, average accuracy 0.6945\n",
      "9 0.01\n",
      "Compute the training gram matrix...\n",
      "\t time 1.0502\n",
      "Compute the testing gram matrix...\n",
      "\t time 0.3373\n",
      "Length of subsequence is : 9\n",
      "and the accuracy on training set is 0.9844\n",
      "The accuracy on test set is 0.6925\n",
      "Compute the training gram matrix...\n",
      "\t time 0.9608\n",
      "Compute the testing gram matrix...\n",
      "\t time 0.3441\n",
      "Length of subsequence is : 9\n",
      "and the accuracy on training set is 0.9888\n",
      "The accuracy on test set is 0.7225\n",
      "Compute the training gram matrix...\n",
      "\t time 1.0128\n",
      "Compute the testing gram matrix...\n",
      "\t time 0.3185\n",
      "Length of subsequence is : 9\n",
      "and the accuracy on training set is 0.9856\n",
      "The accuracy on test set is 0.6500\n"
     ]
    },
    {
     "name": "stdout",
     "output_type": "stream",
     "text": [
      "Compute the training gram matrix...\n",
      "\t time 0.9604\n",
      "Compute the testing gram matrix...\n",
      "\t time 0.3272\n",
      "Length of subsequence is : 9\n",
      "and the accuracy on training set is 0.9850\n",
      "The accuracy on test set is 0.7000\n",
      "Compute the training gram matrix...\n",
      "\t time 1.0313\n",
      "Compute the testing gram matrix...\n",
      "\t time 0.3417\n",
      "Length of subsequence is : 9\n",
      "and the accuracy on training set is 0.9869\n",
      "The accuracy on test set is 0.6925\n",
      "\t parameters len 9,lbd 0.01, average accuracy 0.6915\n"
     ]
    }
   ],
   "source": [
    "from sklearn.model_selection import KFold\n",
    "\n",
    "dataset = ['2']\n",
    "dic_list = []\n",
    "for set in dataset:\n",
    "    X, Y = load_data(set,train =True)\n",
    "    # Xte, _ = load_data(set,train = False)\n",
    "    \n",
    "    print('dataset'+set)\n",
    "    \n",
    "    length = len(X)\n",
    "    para_dict = {}\n",
    "    k_list = [8, 9]\n",
    "    lbd_list = [1e-5, 1e-4, 1e-3, 1e-2]\n",
    "    #k_list = [8, 10]\n",
    "    #lbd_list = [1]\n",
    "\n",
    "    kf = KFold(n_splits = 5)\n",
    "\n",
    "    for k in k_list:\n",
    "        for lbd in lbd_list:\n",
    "            accu = 0\n",
    "            print(k ,lbd)\n",
    "            if not (k,lbd) in para_dict: \n",
    "                para_dict[(k,lbd)] = 0\n",
    "            for train_idx, test_idx in kf.split(X):\n",
    "                Xtr, Ytr = X[train_idx], Y[train_idx]\n",
    "                Xte, Yte = X[test_idx], Y[test_idx]\n",
    "\n",
    "                accu += acc(Xtr, Ytr, Xte, Yte, k, lbd)\n",
    "            accu_test = accu/5\n",
    "            para_dict[(k,lbd)] = accu_test\n",
    "            print('\\t parameters len {:},lbd {:}, average accuracy {:.4f}'.format(k ,lbd, accu_test))\n",
    "            \n",
    "    dic_list.append(para_dict)"
   ]
  },
  {
   "cell_type": "code",
   "execution_count": 35,
   "metadata": {},
   "outputs": [
    {
     "data": {
      "text/plain": [
       "{(6, 1e-05): 0.591,\n",
       " (6, 0.0001): 0.6275000000000001,\n",
       " (6, 0.001): 0.64,\n",
       " (8, 1e-05): 0.6355000000000001,\n",
       " (8, 0.0001): 0.643,\n",
       " (8, 0.001): 0.6389999999999999}"
      ]
     },
     "execution_count": 35,
     "metadata": {},
     "output_type": "execute_result"
    }
   ],
   "source": [
    "para_dict1 = dic_list[0].copy()\n",
    "para_dict1"
   ]
  },
  {
   "cell_type": "code",
   "execution_count": null,
   "metadata": {},
   "outputs": [],
   "source": []
  },
  {
   "cell_type": "code",
   "execution_count": 38,
   "metadata": {},
   "outputs": [
    {
     "data": {
      "text/plain": [
       "{(6, 1e-05): 0.61,\n",
       " (6, 0.0001): 0.633,\n",
       " (6, 0.001): 0.6405,\n",
       " (6, 0.01): 0.641,\n",
       " (8, 1e-05): 0.6140000000000001,\n",
       " (8, 0.0001): 0.6144999999999999,\n",
       " (8, 0.001): 0.6325,\n",
       " (8, 0.01): 0.6325}"
      ]
     },
     "execution_count": 38,
     "metadata": {},
     "output_type": "execute_result"
    }
   ],
   "source": [
    "para_dict2 = dic_list[1].copy()\n",
    "para_dict2"
   ]
  },
  {
   "cell_type": "code",
   "execution_count": 41,
   "metadata": {},
   "outputs": [
    {
     "data": {
      "text/plain": [
       "{(8, 1e-05): 0.7224999999999999,\n",
       " (8, 0.0001): 0.7284999999999999,\n",
       " (8, 0.001): 0.6900000000000001,\n",
       " (8, 0.01): 0.7025,\n",
       " (9, 1e-05): 0.716,\n",
       " (9, 0.0001): 0.7224999999999999,\n",
       " (9, 0.001): 0.6944999999999999,\n",
       " (9, 0.01): 0.6914999999999999}"
      ]
     },
     "execution_count": 41,
     "metadata": {},
     "output_type": "execute_result"
    }
   ],
   "source": [
    "para_dict3 = dic_list[2].copy()\n",
    "para_dict3"
   ]
  },
  {
   "cell_type": "code",
   "execution_count": 40,
   "metadata": {},
   "outputs": [
    {
     "data": {
      "text/plain": [
       "{(8, 0.01): 0.6875,\n",
       " (8, 0.1): 0.6975,\n",
       " (8, 1): 0.6925,\n",
       " (8, 10): 0.69,\n",
       " (12, 0.01): 0.65,\n",
       " (12, 0.1): 0.6475,\n",
       " (12, 1): 0.6475,\n",
       " (12, 10): 0.6475,\n",
       " (15, 0.01): 0.5525,\n",
       " (15, 0.1): 0.5525,\n",
       " (15, 1): 0.5525,\n",
       " (15, 10): 0.5525,\n",
       " (20, 0.01): 0.52,\n",
       " (20, 0.1): 0.52,\n",
       " (20, 1): 0.52,\n",
       " (20, 10): 0.52}"
      ]
     },
     "execution_count": 40,
     "metadata": {},
     "output_type": "execute_result"
    }
   ],
   "source": [
    "para_dict3 = para_dict.copy()\n",
    "para_dict3"
   ]
  },
  {
   "cell_type": "code",
   "execution_count": 44,
   "metadata": {},
   "outputs": [],
   "source": [
    "paras = {'0': [8 ,0.0001], '1':[6,0.01], '2':[8,0.0001]}"
   ]
  },
  {
   "cell_type": "code",
   "execution_count": 45,
   "metadata": {},
   "outputs": [
    {
     "name": "stdout",
     "output_type": "stream",
     "text": [
      "Compute the training gram matrix...\n",
      "\t time 2.0105\n",
      "Compute the testing gram matrix...\n",
      "\t time 1.0168\n",
      "Length of subsequence is : 8, and the accuracy on training set is 0.9880\n",
      "Compute the training gram matrix...\n",
      "\t time 11.4195\n",
      "Compute the testing gram matrix...\n",
      "\t time 5.6302\n",
      "Length of subsequence is : 6, and the accuracy on training set is 0.7925\n",
      "Compute the training gram matrix...\n",
      "\t time 2.1960\n",
      "Compute the testing gram matrix...\n",
      "\t time 1.1125\n",
      "Length of subsequence is : 8, and the accuracy on training set is 0.9970\n"
     ]
    }
   ],
   "source": [
    "dataset = ['0','1','2']\n",
    "pre_y = []\n",
    "for set in dataset:\n",
    "    Xtr, Ytr = load_data(set,train =True)\n",
    "    Xte,_ = load_data(set,train = False)\n",
    "\n",
    "    # length of subsequence\n",
    "    k = paras[set][0]\n",
    "    lbd = paras[set][1]\n",
    "    \n",
    "    dic_tr = dic_constr(Xtr, k)\n",
    "    dic_te = dic_constr(Xte, k)\n",
    "\n",
    "    len_tr, len_te = len(Xtr), len(Xte)\n",
    "\n",
    "    # the gram matrix \n",
    "    print('Compute the training gram matrix...')\n",
    "    gram_mat_train = gram_matrix(dic_tr,dic_tr, len_tr,len_tr)\n",
    "    print('Compute the testing gram matrix...')\n",
    "    gram_mat_test = gram_matrix(dic_tr, dic_te, len_te,len_tr)\n",
    "\n",
    "    # SVM solution\n",
    "    sol = SVM(gram_mat_train, Ytr,lbd)\n",
    "    pred_train = predict(gram_mat_train, sol['x'])\n",
    "    acc_train = np.sum(np.abs(pred_train.squeeze() - Ytr)) / len_tr\n",
    "    acc_train = 1-acc_train\n",
    "    print('Length of subsequence is : {:}, and the accuracy on training set is {:.4f}'.format(k, acc_train))\n",
    "\n",
    "    # output on the test set\n",
    "    pred_test = predict(gram_mat_test, sol['x'] ).squeeze()\n",
    "    pre_y.append(pred_test)"
   ]
  },
  {
   "cell_type": "code",
   "execution_count": 46,
   "metadata": {},
   "outputs": [
    {
     "data": {
      "text/plain": [
       "[array([1, 1, 1, 1, 0, 0, 1, 0, 1, 0, 1, 0, 0, 1, 0, 0, 0, 1, 0, 0, 0, 1,\n",
       "        0, 0, 1, 1, 0, 0, 0, 0, 0, 0, 1, 0, 1, 1, 1, 0, 0, 0, 0, 1, 0, 1,\n",
       "        0, 0, 1, 1, 1, 0, 0, 0, 0, 1, 0, 1, 0, 1, 1, 0, 1, 1, 0, 1, 0, 0,\n",
       "        1, 0, 1, 1, 1, 0, 1, 1, 1, 0, 0, 1, 0, 1, 0, 0, 1, 1, 1, 1, 0, 0,\n",
       "        0, 0, 0, 1, 0, 0, 0, 1, 1, 0, 0, 0, 1, 0, 0, 1, 0, 0, 0, 0, 0, 1,\n",
       "        0, 1, 1, 0, 1, 0, 1, 1, 0, 1, 1, 1, 1, 1, 0, 0, 1, 1, 1, 1, 0, 1,\n",
       "        0, 1, 0, 0, 0, 1, 1, 0, 1, 0, 0, 0, 1, 1, 0, 0, 0, 1, 0, 0, 1, 0,\n",
       "        0, 1, 1, 0, 0, 1, 0, 0, 0, 1, 1, 0, 1, 0, 1, 0, 1, 0, 0, 1, 1, 1,\n",
       "        0, 0, 1, 1, 0, 0, 1, 0, 0, 1, 0, 0, 0, 0, 0, 0, 0, 0, 0, 0, 0, 0,\n",
       "        0, 0, 0, 0, 0, 1, 0, 0, 1, 1, 0, 1, 0, 0, 1, 1, 1, 1, 0, 0, 1, 0,\n",
       "        1, 1, 1, 0, 0, 1, 0, 0, 1, 1, 0, 0, 1, 1, 1, 1, 1, 0, 0, 0, 1, 1,\n",
       "        1, 1, 0, 0, 0, 0, 1, 1, 1, 1, 1, 0, 0, 1, 1, 0, 1, 0, 0, 1, 0, 0,\n",
       "        0, 0, 0, 0, 1, 0, 0, 1, 0, 0, 0, 1, 1, 0, 1, 1, 1, 0, 1, 1, 0, 1,\n",
       "        0, 1, 1, 1, 1, 0, 0, 0, 1, 1, 0, 0, 1, 0, 1, 1, 0, 1, 1, 0, 1, 1,\n",
       "        0, 1, 1, 0, 1, 0, 0, 0, 1, 1, 1, 0, 1, 0, 0, 0, 1, 0, 0, 0, 0, 0,\n",
       "        0, 0, 1, 1, 0, 0, 0, 1, 0, 1, 1, 0, 0, 1, 0, 1, 0, 0, 0, 1, 0, 0,\n",
       "        1, 1, 1, 1, 1, 0, 1, 0, 0, 1, 1, 1, 0, 1, 0, 1, 1, 0, 1, 1, 0, 1,\n",
       "        0, 0, 1, 1, 0, 0, 0, 0, 0, 0, 0, 1, 0, 0, 0, 0, 1, 0, 0, 1, 0, 0,\n",
       "        0, 1, 1, 1, 0, 1, 0, 1, 0, 1, 0, 0, 1, 0, 1, 1, 0, 1, 1, 0, 0, 0,\n",
       "        0, 0, 1, 1, 0, 1, 0, 0, 1, 1, 0, 1, 0, 0, 0, 1, 0, 1, 1, 0, 1, 0,\n",
       "        1, 0, 1, 1, 1, 0, 1, 1, 0, 1, 0, 1, 0, 0, 1, 1, 1, 0, 0, 0, 1, 1,\n",
       "        1, 0, 1, 1, 1, 0, 0, 0, 1, 0, 0, 0, 1, 1, 1, 0, 1, 1, 0, 1, 0, 1,\n",
       "        0, 0, 0, 1, 0, 1, 0, 1, 0, 1, 1, 1, 1, 0, 0, 1, 1, 0, 0, 0, 1, 1,\n",
       "        1, 1, 1, 1, 0, 1, 1, 0, 1, 1, 0, 0, 1, 1, 1, 0, 0, 0, 1, 1, 1, 1,\n",
       "        0, 0, 0, 0, 0, 0, 1, 1, 0, 0, 0, 1, 1, 0, 1, 1, 0, 1, 1, 1, 1, 0,\n",
       "        0, 0, 1, 1, 1, 0, 0, 0, 0, 0, 0, 1, 0, 0, 0, 1, 1, 1, 0, 0, 0, 1,\n",
       "        1, 0, 1, 0, 0, 0, 0, 1, 0, 0, 0, 1, 1, 1, 1, 0, 1, 0, 0, 0, 1, 0,\n",
       "        1, 0, 0, 0, 1, 0, 1, 0, 0, 0, 1, 0, 1, 1, 0, 1, 0, 1, 0, 0, 1, 0,\n",
       "        0, 0, 0, 0, 0, 0, 1, 1, 0, 0, 1, 1, 1, 0, 0, 1, 1, 0, 1, 1, 1, 0,\n",
       "        0, 1, 0, 1, 0, 0, 1, 1, 1, 0, 1, 1, 1, 1, 0, 0, 1, 0, 1, 1, 1, 0,\n",
       "        1, 1, 1, 0, 0, 0, 1, 1, 1, 1, 1, 0, 0, 1, 0, 1, 1, 0, 1, 0, 0, 0,\n",
       "        0, 0, 1, 0, 1, 0, 0, 0, 0, 1, 1, 1, 0, 1, 0, 0, 0, 0, 1, 1, 1, 1,\n",
       "        1, 0, 0, 0, 1, 0, 0, 0, 1, 0, 1, 1, 1, 0, 1, 0, 0, 1, 0, 0, 1, 1,\n",
       "        1, 1, 1, 0, 1, 0, 0, 1, 0, 0, 0, 1, 0, 1, 1, 1, 0, 0, 1, 1, 1, 1,\n",
       "        0, 0, 0, 0, 0, 0, 0, 0, 1, 0, 1, 0, 0, 0, 1, 1, 0, 1, 0, 1, 1, 0,\n",
       "        1, 1, 1, 0, 1, 0, 0, 1, 1, 0, 0, 1, 0, 1, 0, 0, 1, 0, 1, 1, 1, 1,\n",
       "        1, 0, 1, 0, 0, 0, 1, 1, 0, 0, 0, 1, 0, 0, 0, 0, 1, 1, 0, 1, 1, 0,\n",
       "        1, 0, 1, 1, 1, 1, 0, 1, 0, 1, 1, 1, 0, 1, 0, 1, 1, 0, 1, 0, 0, 0,\n",
       "        0, 0, 1, 1, 0, 0, 0, 1, 0, 0, 0, 0, 1, 1, 0, 0, 1, 1, 1, 1, 0, 0,\n",
       "        1, 1, 0, 1, 0, 0, 0, 0, 0, 0, 1, 1, 0, 0, 0, 0, 0, 1, 0, 0, 0, 1,\n",
       "        0, 0, 0, 1, 0, 0, 0, 1, 1, 1, 1, 1, 1, 1, 1, 0, 1, 0, 0, 0, 1, 1,\n",
       "        1, 1, 1, 1, 0, 0, 1, 0, 0, 1, 0, 1, 1, 0, 0, 1, 0, 0, 1, 0, 1, 1,\n",
       "        0, 0, 1, 0, 0, 0, 1, 0, 1, 1, 0, 1, 0, 1, 1, 0, 1, 0, 0, 0, 1, 0,\n",
       "        0, 1, 1, 0, 0, 0, 1, 1, 0, 1, 0, 0, 0, 1, 1, 0, 1, 1, 1, 1, 0, 1,\n",
       "        0, 1, 1, 1, 0, 0, 0, 0, 1, 1, 1, 1, 0, 0, 1, 0, 1, 0, 0, 1, 1, 1,\n",
       "        1, 0, 0, 0, 0, 0, 0, 1, 1, 0]),\n",
       " array([1, 1, 1, 0, 1, 1, 0, 1, 1, 0, 1, 1, 1, 1, 1, 1, 1, 1, 0, 1, 0, 1,\n",
       "        1, 0, 1, 0, 1, 1, 1, 1, 1, 0, 1, 1, 1, 1, 1, 1, 0, 0, 1, 1, 0, 0,\n",
       "        1, 1, 0, 1, 1, 0, 0, 1, 0, 0, 0, 1, 1, 1, 1, 0, 1, 1, 0, 0, 1, 1,\n",
       "        0, 0, 0, 1, 1, 0, 0, 1, 1, 0, 1, 0, 0, 1, 1, 1, 1, 1, 1, 1, 1, 0,\n",
       "        0, 0, 1, 1, 0, 1, 0, 0, 1, 1, 1, 0, 1, 1, 0, 0, 1, 1, 1, 1, 0, 1,\n",
       "        1, 0, 0, 1, 1, 1, 1, 1, 1, 0, 1, 1, 0, 0, 0, 0, 1, 0, 1, 1, 1, 1,\n",
       "        1, 1, 0, 1, 0, 0, 1, 1, 0, 1, 0, 1, 1, 1, 0, 1, 1, 0, 1, 1, 0, 0,\n",
       "        1, 1, 1, 1, 1, 1, 1, 1, 0, 0, 1, 1, 1, 1, 0, 0, 1, 1, 1, 1, 1, 0,\n",
       "        1, 0, 0, 0, 0, 1, 0, 1, 0, 0, 1, 1, 1, 1, 1, 0, 1, 1, 1, 1, 1, 1,\n",
       "        1, 1, 1, 1, 1, 1, 1, 0, 1, 1, 1, 1, 1, 1, 0, 1, 0, 1, 1, 1, 0, 1,\n",
       "        1, 1, 0, 0, 0, 1, 0, 0, 1, 1, 1, 1, 1, 1, 1, 1, 0, 1, 1, 1, 1, 0,\n",
       "        0, 0, 1, 0, 1, 0, 1, 0, 0, 1, 0, 1, 1, 1, 0, 1, 1, 1, 1, 1, 0, 0,\n",
       "        1, 1, 0, 0, 1, 0, 0, 1, 0, 1, 0, 1, 0, 0, 1, 1, 0, 1, 1, 0, 1, 0,\n",
       "        0, 1, 0, 1, 0, 1, 1, 1, 0, 1, 0, 1, 0, 1, 1, 1, 1, 1, 0, 1, 1, 1,\n",
       "        1, 0, 1, 1, 1, 0, 0, 1, 1, 1, 1, 1, 1, 1, 1, 0, 1, 1, 0, 1, 1, 0,\n",
       "        0, 1, 0, 1, 1, 1, 1, 0, 1, 1, 0, 0, 1, 1, 1, 1, 1, 1, 1, 0, 1, 0,\n",
       "        1, 1, 0, 1, 0, 0, 0, 0, 1, 0, 1, 0, 0, 1, 1, 1, 1, 0, 1, 0, 1, 1,\n",
       "        1, 1, 0, 1, 1, 0, 0, 1, 1, 1, 0, 1, 1, 1, 0, 0, 1, 1, 0, 0, 1, 1,\n",
       "        1, 1, 1, 1, 0, 1, 0, 1, 1, 0, 0, 0, 0, 1, 0, 1, 0, 1, 1, 1, 1, 1,\n",
       "        1, 1, 1, 0, 0, 1, 0, 1, 1, 1, 1, 1, 0, 1, 1, 0, 1, 1, 1, 1, 1, 0,\n",
       "        0, 1, 1, 0, 0, 1, 0, 1, 1, 1, 1, 1, 1, 0, 1, 0, 1, 1, 0, 1, 1, 1,\n",
       "        1, 0, 0, 1, 1, 1, 0, 1, 1, 0, 1, 1, 1, 1, 1, 1, 1, 1, 0, 0, 0, 0,\n",
       "        0, 0, 0, 1, 1, 0, 1, 1, 1, 1, 1, 0, 1, 1, 1, 1, 1, 1, 0, 1, 1, 0,\n",
       "        1, 0, 1, 0, 1, 1, 1, 0, 1, 0, 1, 1, 1, 1, 1, 1, 0, 1, 1, 1, 1, 1,\n",
       "        1, 1, 1, 0, 1, 1, 1, 1, 0, 1, 1, 1, 0, 1, 1, 1, 1, 0, 0, 1, 1, 0,\n",
       "        1, 0, 0, 1, 0, 1, 0, 1, 1, 1, 0, 1, 0, 1, 1, 0, 0, 0, 0, 1, 0, 1,\n",
       "        0, 1, 0, 1, 1, 1, 1, 1, 1, 0, 0, 1, 1, 0, 0, 1, 1, 1, 0, 0, 0, 0,\n",
       "        0, 1, 1, 1, 0, 0, 1, 0, 1, 1, 1, 1, 1, 0, 1, 1, 0, 1, 0, 0, 0, 0,\n",
       "        1, 1, 0, 0, 0, 1, 1, 1, 0, 1, 0, 1, 0, 0, 1, 0, 1, 0, 0, 0, 1, 1,\n",
       "        1, 0, 1, 0, 1, 1, 1, 1, 1, 1, 0, 1, 1, 0, 1, 1, 0, 1, 1, 1, 1, 1,\n",
       "        0, 0, 1, 1, 1, 0, 1, 0, 0, 1, 1, 1, 0, 0, 0, 1, 0, 1, 1, 0, 1, 1,\n",
       "        1, 0, 1, 0, 1, 0, 0, 0, 0, 1, 1, 0, 1, 1, 1, 1, 0, 0, 0, 1, 0, 1,\n",
       "        0, 0, 1, 1, 0, 0, 1, 1, 1, 1, 0, 1, 1, 1, 1, 0, 0, 0, 1, 1, 1, 1,\n",
       "        1, 0, 1, 1, 0, 0, 0, 0, 1, 1, 1, 1, 1, 1, 1, 0, 1, 1, 0, 0, 1, 1,\n",
       "        1, 1, 0, 0, 0, 0, 1, 1, 0, 1, 1, 1, 0, 1, 1, 1, 1, 1, 0, 0, 1, 0,\n",
       "        1, 1, 0, 0, 0, 0, 0, 1, 1, 0, 1, 1, 1, 0, 0, 0, 1, 1, 0, 1, 1, 1,\n",
       "        0, 1, 0, 1, 1, 1, 1, 1, 0, 1, 1, 0, 1, 1, 1, 1, 1, 0, 0, 1, 1, 1,\n",
       "        0, 0, 0, 1, 0, 0, 1, 0, 0, 1, 1, 1, 0, 1, 0, 0, 0, 0, 0, 0, 1, 1,\n",
       "        1, 1, 1, 1, 0, 1, 1, 0, 1, 0, 1, 1, 0, 1, 1, 0, 0, 1, 0, 1, 1, 1,\n",
       "        0, 0, 0, 1, 0, 1, 1, 1, 1, 0, 1, 0, 1, 1, 0, 0, 1, 1, 0, 0, 1, 1,\n",
       "        0, 1, 1, 0, 1, 1, 1, 0, 1, 1, 1, 1, 1, 1, 1, 1, 1, 1, 1, 1, 0, 1,\n",
       "        0, 1, 1, 1, 1, 1, 0, 0, 0, 0, 1, 0, 0, 1, 1, 1, 0, 1, 1, 1, 0, 0,\n",
       "        1, 0, 1, 1, 1, 0, 1, 1, 1, 1, 0, 0, 0, 0, 0, 0, 0, 1, 1, 0, 1, 0,\n",
       "        1, 1, 1, 0, 1, 1, 1, 1, 0, 0, 0, 0, 1, 1, 1, 1, 1, 0, 1, 1, 1, 1,\n",
       "        1, 1, 1, 1, 0, 1, 1, 0, 1, 0, 1, 1, 0, 1, 1, 1, 1, 1, 0, 1, 0, 0,\n",
       "        0, 1, 1, 1, 1, 0, 0, 1, 0, 1]),\n",
       " array([0, 0, 0, 1, 0, 0, 1, 1, 1, 0, 0, 1, 1, 1, 0, 1, 0, 0, 1, 1, 0, 1,\n",
       "        1, 1, 1, 0, 1, 0, 1, 1, 0, 1, 0, 1, 1, 0, 0, 0, 0, 1, 0, 0, 1, 1,\n",
       "        0, 1, 0, 1, 0, 1, 1, 0, 0, 1, 0, 1, 0, 1, 1, 0, 0, 0, 0, 1, 1, 0,\n",
       "        1, 1, 0, 0, 1, 0, 0, 0, 1, 0, 1, 1, 1, 1, 1, 1, 0, 1, 1, 1, 1, 1,\n",
       "        0, 0, 1, 1, 1, 1, 1, 0, 0, 0, 0, 1, 0, 1, 0, 1, 1, 1, 1, 0, 1, 0,\n",
       "        1, 1, 1, 1, 0, 1, 1, 1, 1, 1, 0, 1, 1, 0, 0, 1, 0, 1, 0, 1, 1, 0,\n",
       "        1, 0, 0, 1, 1, 1, 1, 1, 1, 1, 0, 1, 1, 0, 1, 1, 1, 0, 0, 1, 0, 0,\n",
       "        1, 1, 1, 0, 1, 0, 1, 0, 0, 1, 1, 0, 1, 0, 0, 1, 1, 0, 1, 1, 1, 0,\n",
       "        1, 0, 0, 1, 0, 1, 1, 1, 1, 1, 1, 1, 1, 1, 1, 1, 1, 1, 1, 1, 0, 1,\n",
       "        0, 1, 1, 1, 1, 1, 0, 1, 1, 1, 1, 0, 0, 0, 1, 1, 1, 1, 1, 0, 1, 0,\n",
       "        0, 1, 1, 1, 1, 0, 1, 1, 1, 1, 0, 0, 1, 1, 0, 1, 0, 1, 0, 0, 1, 1,\n",
       "        0, 0, 0, 0, 0, 1, 0, 1, 1, 1, 0, 1, 0, 1, 1, 0, 1, 1, 0, 1, 1, 1,\n",
       "        0, 1, 0, 1, 0, 0, 0, 1, 0, 0, 1, 0, 0, 1, 0, 1, 1, 1, 0, 1, 0, 1,\n",
       "        0, 1, 1, 1, 0, 0, 1, 0, 0, 0, 1, 0, 1, 1, 1, 0, 0, 1, 1, 0, 1, 1,\n",
       "        0, 0, 1, 0, 1, 1, 1, 0, 1, 0, 1, 1, 1, 0, 1, 0, 1, 1, 1, 1, 0, 0,\n",
       "        0, 0, 1, 1, 0, 0, 1, 0, 0, 0, 1, 1, 1, 1, 1, 1, 0, 0, 0, 0, 0, 1,\n",
       "        1, 0, 0, 0, 1, 1, 0, 0, 1, 1, 1, 0, 0, 0, 1, 1, 1, 1, 1, 0, 0, 0,\n",
       "        1, 1, 1, 1, 0, 1, 1, 0, 1, 0, 0, 0, 0, 1, 1, 0, 1, 0, 1, 0, 1, 0,\n",
       "        1, 1, 1, 1, 0, 1, 1, 1, 0, 0, 1, 1, 1, 1, 1, 1, 0, 1, 1, 1, 0, 1,\n",
       "        1, 1, 0, 0, 0, 0, 1, 0, 0, 0, 1, 0, 0, 0, 1, 0, 0, 0, 0, 1, 0, 1,\n",
       "        1, 0, 1, 1, 0, 0, 0, 0, 1, 0, 1, 0, 1, 1, 0, 1, 1, 1, 0, 0, 0, 1,\n",
       "        1, 1, 1, 1, 0, 1, 0, 0, 0, 0, 0, 1, 1, 0, 1, 1, 0, 1, 1, 1, 1, 0,\n",
       "        1, 0, 0, 0, 1, 1, 0, 1, 1, 1, 0, 1, 1, 1, 1, 0, 0, 0, 0, 1, 0, 0,\n",
       "        0, 1, 1, 0, 0, 0, 0, 1, 1, 0, 0, 1, 1, 1, 1, 0, 0, 0, 0, 1, 1, 1,\n",
       "        0, 0, 1, 1, 1, 1, 0, 0, 1, 0, 1, 0, 1, 1, 1, 0, 1, 1, 1, 1, 0, 1,\n",
       "        1, 0, 1, 1, 1, 1, 1, 1, 0, 1, 0, 0, 0, 0, 1, 1, 0, 1, 0, 1, 0, 0,\n",
       "        1, 1, 0, 0, 0, 1, 0, 1, 0, 1, 0, 0, 0, 0, 1, 0, 0, 0, 0, 0, 1, 0,\n",
       "        1, 1, 1, 0, 1, 1, 1, 0, 0, 1, 1, 1, 0, 1, 0, 1, 1, 1, 0, 1, 1, 1,\n",
       "        1, 1, 0, 0, 0, 1, 1, 1, 1, 1, 0, 0, 1, 1, 1, 1, 0, 1, 1, 1, 1, 1,\n",
       "        1, 0, 0, 0, 1, 0, 1, 1, 1, 0, 0, 1, 1, 0, 0, 1, 1, 1, 0, 0, 1, 0,\n",
       "        0, 0, 0, 1, 1, 0, 0, 0, 0, 1, 1, 1, 0, 1, 1, 1, 1, 0, 0, 0, 0, 0,\n",
       "        1, 1, 1, 0, 1, 1, 0, 0, 0, 0, 1, 1, 1, 1, 1, 0, 1, 0, 1, 1, 1, 0,\n",
       "        1, 1, 0, 1, 1, 0, 0, 0, 1, 0, 1, 1, 0, 0, 1, 1, 1, 1, 0, 1, 0, 0,\n",
       "        1, 1, 1, 1, 1, 0, 0, 1, 0, 1, 1, 1, 1, 1, 1, 0, 0, 0, 0, 0, 0, 0,\n",
       "        0, 1, 1, 1, 0, 0, 1, 1, 0, 0, 1, 1, 0, 1, 1, 0, 1, 0, 0, 1, 1, 1,\n",
       "        1, 0, 1, 1, 1, 0, 0, 1, 1, 0, 1, 1, 1, 0, 0, 1, 1, 1, 1, 0, 1, 0,\n",
       "        0, 1, 1, 1, 1, 1, 1, 0, 1, 1, 1, 0, 0, 0, 1, 1, 1, 1, 0, 1, 0, 1,\n",
       "        1, 1, 0, 0, 1, 1, 1, 0, 0, 0, 1, 0, 1, 0, 1, 1, 1, 1, 1, 1, 1, 1,\n",
       "        0, 0, 1, 0, 1, 0, 1, 1, 1, 1, 0, 0, 1, 1, 0, 1, 0, 0, 1, 1, 0, 0,\n",
       "        1, 0, 0, 1, 0, 0, 1, 1, 1, 1, 0, 0, 1, 0, 0, 0, 0, 1, 1, 0, 1, 1,\n",
       "        1, 1, 1, 0, 0, 1, 0, 1, 1, 0, 0, 0, 0, 1, 1, 0, 0, 0, 0, 1, 1, 0,\n",
       "        1, 0, 1, 1, 0, 0, 1, 0, 1, 0, 1, 1, 1, 1, 1, 1, 1, 1, 1, 1, 1, 1,\n",
       "        0, 1, 0, 1, 0, 0, 1, 0, 1, 0, 1, 1, 1, 0, 0, 0, 0, 1, 1, 0, 1, 0,\n",
       "        0, 1, 1, 0, 1, 1, 0, 1, 0, 1, 1, 1, 0, 1, 1, 0, 1, 0, 0, 0, 1, 0,\n",
       "        0, 0, 0, 1, 0, 0, 0, 1, 1, 0, 0, 0, 1, 0, 1, 1, 1, 0, 0, 1, 0, 1,\n",
       "        0, 1, 0, 0, 1, 1, 0, 0, 0, 1])]"
      ]
     },
     "execution_count": 46,
     "metadata": {},
     "output_type": "execute_result"
    }
   ],
   "source": [
    "pre_y"
   ]
  },
  {
   "cell_type": "code",
   "execution_count": 47,
   "metadata": {},
   "outputs": [],
   "source": [
    "pred_all = np.array(pre_y).reshape(3000)\n",
    "pred = pd.Series(pred_all.astype('int'), name=\"Bound\")\n",
    "pred.index = pd.Series(np.arange(len(pred_all)), name=\"Id\")"
   ]
  },
  {
   "cell_type": "code",
   "execution_count": 48,
   "metadata": {},
   "outputs": [],
   "source": [
    "pred.to_csv('SVM_spectrum_norm.csv')"
   ]
  },
  {
   "cell_type": "code",
   "execution_count": 54,
   "metadata": {},
   "outputs": [],
   "source": [
    "with open('pred_normal_2.npy', 'wb') as f:\n",
    "    np.save(f, pre_y[2])"
   ]
  },
  {
   "cell_type": "code",
   "execution_count": null,
   "metadata": {},
   "outputs": [],
   "source": []
  },
  {
   "cell_type": "code",
   "execution_count": null,
   "metadata": {},
   "outputs": [],
   "source": []
  },
  {
   "cell_type": "code",
   "execution_count": 31,
   "metadata": {},
   "outputs": [],
   "source": [
    "k = 3\n",
    "count_matrix = np.zeros((len(Xtr),4**k))\n",
    "#gram_matrix = np.zeros((len(Xtr), len(Xtr)))\n",
    "list_ = []\n",
    "bases = ['A','G','C','T']\n",
    "for i in range(4):\n",
    "    for j in range(4):\n",
    "        for k in range(4):\n",
    "            string =''\n",
    "            string = bases[i]+ bases[j] + bases[k]\n",
    "            list_.append(string)\n",
    "        \n",
    "list_.sort()\n",
    "for idx, fulseq in enumerate(Xtr):\n",
    "    # subsequece \n",
    "    substrings = [fulseq[i:i + k]  for i in range(len(fulseq) - k + 1)  ]\n",
    "    for subseq in substrings:\n",
    "        n = list_.index(subseq)\n",
    "        count_matrix[idx,n] += 1 "
   ]
  },
  {
   "cell_type": "code",
   "execution_count": 32,
   "metadata": {},
   "outputs": [],
   "source": [
    "kernel = count_matrix @ count_matrix.T"
   ]
  },
  {
   "cell_type": "code",
   "execution_count": 33,
   "metadata": {},
   "outputs": [
    {
     "data": {
      "text/plain": [
       "0.0"
      ]
     },
     "execution_count": 33,
     "metadata": {},
     "output_type": "execute_result"
    }
   ],
   "source": [
    "sum(sum(abs(gram_mat_train - kernel)))"
   ]
  },
  {
   "cell_type": "code",
   "execution_count": 34,
   "metadata": {},
   "outputs": [
    {
     "data": {
      "text/plain": [
       "array([[ 800.,  532.,  597., ...,  692.,  707.,  780.],\n",
       "       [ 532.,  866.,  674., ...,  727.,  557.,  571.],\n",
       "       [ 597.,  674.,  856., ...,  581.,  669.,  489.],\n",
       "       ...,\n",
       "       [ 692.,  727.,  581., ...,  886.,  635.,  794.],\n",
       "       [ 707.,  557.,  669., ...,  635.,  764.,  639.],\n",
       "       [ 780.,  571.,  489., ...,  794.,  639., 1026.]])"
      ]
     },
     "execution_count": 34,
     "metadata": {},
     "output_type": "execute_result"
    }
   ],
   "source": [
    "kernel"
   ]
  },
  {
   "cell_type": "code",
   "execution_count": 35,
   "metadata": {},
   "outputs": [
    {
     "data": {
      "text/plain": [
       "array([[ 800.,  532.,  597., ...,  692.,  707.,  780.],\n",
       "       [ 532.,  866.,  674., ...,  727.,  557.,  571.],\n",
       "       [ 597.,  674.,  856., ...,  581.,  669.,  489.],\n",
       "       ...,\n",
       "       [ 692.,  727.,  581., ...,  886.,  635.,  794.],\n",
       "       [ 707.,  557.,  669., ...,  635.,  764.,  639.],\n",
       "       [ 780.,  571.,  489., ...,  794.,  639., 1026.]])"
      ]
     },
     "execution_count": 35,
     "metadata": {},
     "output_type": "execute_result"
    }
   ],
   "source": [
    "gram_mat_train"
   ]
  },
  {
   "cell_type": "code",
   "execution_count": 9,
   "metadata": {},
   "outputs": [
    {
     "name": "stderr",
     "output_type": "stream",
     "text": [
      "<ipython-input-9-20851cc7e1db>:1: RuntimeWarning: invalid value encountered in true_divide\n",
      "  np.divide(0,0)\n"
     ]
    },
    {
     "data": {
      "text/plain": [
       "nan"
      ]
     },
     "execution_count": 9,
     "metadata": {},
     "output_type": "execute_result"
    }
   ],
   "source": [
    "np.divide(0,0)"
   ]
  },
  {
   "cell_type": "code",
   "execution_count": null,
   "metadata": {},
   "outputs": [],
   "source": []
  }
 ],
 "metadata": {
  "kernelspec": {
   "display_name": "Python 3",
   "language": "python",
   "name": "python3"
  },
  "language_info": {
   "codemirror_mode": {
    "name": "ipython",
    "version": 3
   },
   "file_extension": ".py",
   "mimetype": "text/x-python",
   "name": "python",
   "nbconvert_exporter": "python",
   "pygments_lexer": "ipython3",
   "version": "3.6.5"
  },
  "toc": {
   "base_numbering": 1,
   "nav_menu": {},
   "number_sections": true,
   "sideBar": true,
   "skip_h1_title": false,
   "title_cell": "Table of Contents",
   "title_sidebar": "Contents",
   "toc_cell": false,
   "toc_position": {},
   "toc_section_display": true,
   "toc_window_display": false
  }
 },
 "nbformat": 4,
 "nbformat_minor": 4
}
